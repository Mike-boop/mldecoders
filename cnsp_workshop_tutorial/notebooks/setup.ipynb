{
 "cells": [
  {
   "cell_type": "markdown",
   "id": "23fc3048",
   "metadata": {},
   "source": [
    "Install the mldecoders package:"
   ]
  },
  {
   "cell_type": "code",
   "execution_count": null,
   "id": "f244c3df",
   "metadata": {},
   "outputs": [],
   "source": [
    "!git clone https://github.com/Mike-boop/mldecoders.git\n",
    "\n",
    "import os\n",
    "os.chdir('mldecoders')\n",
    "\n",
    "!python setup.py install"
   ]
  }
 ],
 "metadata": {
  "kernelspec": {
   "display_name": "Python 3 (ipykernel)",
   "language": "python",
   "name": "python3"
  },
  "language_info": {
   "codemirror_mode": {
    "name": "ipython",
    "version": 3
   },
   "file_extension": ".py",
   "mimetype": "text/x-python",
   "name": "python",
   "nbconvert_exporter": "python",
   "pygments_lexer": "ipython3",
   "version": "3.9.9"
  }
 },
 "nbformat": 4,
 "nbformat_minor": 5
}
