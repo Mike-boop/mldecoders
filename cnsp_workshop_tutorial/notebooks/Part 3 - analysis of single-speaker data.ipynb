{
 "cells": [
  {
   "cell_type": "markdown",
   "id": "c1b9a938",
   "metadata": {},
   "source": [
    "# Notebook 3: comparison of linear and nonlinear decoders"
   ]
  },
  {
   "cell_type": "code",
   "execution_count": null,
   "id": "4078e109",
   "metadata": {},
   "outputs": [],
   "source": [
    "!pip install scipy==1.7.3\n",
    "\n",
    "!git clone https://github.com/Mike-boop/mldecoders.git\n",
    "\n",
    "import os\n",
    "os.chdir('mldecoders')\n",
    "\n",
    "!python setup.py install"
   ]
  },
  {
   "cell_type": "code",
   "execution_count": 30,
   "id": "d3ed8d58",
   "metadata": {},
   "outputs": [],
   "source": [
    "# Download the predictions from the CNSP web server \n",
    "\n",
    "!wget --no-parent -r 'https://www.data.cnspworkshop.net/data/thornton_data/dnn_predictions' -O cnsp_workshop_tutorial/data/dnn_predictions\n",
    "dnn_predictions_dir = 'cnsp_workshop_tutorial/data/dnn_predictions'\n",
    "# dnn_predictions_dir = 'cnsp_workshop_tutorial/data/dnn_default_predictions'"
   ]
  },
  {
   "cell_type": "code",
   "execution_count": 1,
   "id": "4450279d",
   "metadata": {},
   "outputs": [],
   "source": [
    "import os\n",
    "import numpy as np\n",
    "import matplotlib.pyplot as plt\n",
    "from scipy.stats import pearsonr"
   ]
  },
  {
   "cell_type": "markdown",
   "id": "1f148f73",
   "metadata": {},
   "source": [
    "# Intro\n",
    "\n",
    "In part 1, you trained linear decoders to predict the speech envelope from EEG recordings. In part 2, each of you trained one of the DNNs for one participant's data, and sent us the predicted speech envelope values. In this notebook, we will compare the performances of the linear models with those of the DNNs. "
   ]
  },
  {
   "cell_type": "markdown",
   "id": "f8130e06",
   "metadata": {},
   "source": [
    "# Loading the predicted speech envelopes"
   ]
  },
  {
   "cell_type": "markdown",
   "id": "c88f2210",
   "metadata": {},
   "source": [
    "The outputs of the linear models which we saved can be loaded like so (using the first participant as an example):"
   ]
  },
  {
   "cell_type": "code",
   "execution_count": null,
   "id": "73b9c437",
   "metadata": {},
   "outputs": [],
   "source": [
    "participant = 0\n",
    "lm_filepath = os.path.join(dnn_predictions_dir, f\"lm_P{participant:02d}_predictions.npy\")\n",
    "lm_predictions = np.load(filepath)"
   ]
  },
  {
   "cell_type": "code",
   "execution_count": null,
   "id": "1f7f3a5c",
   "metadata": {},
   "outputs": [],
   "source": [
    "ground_truth = np.load('../data/hugo_subject_specific/ground_truth.npy')\n",
    "print(pearsonr(lm_predictions, ground_truth))"
   ]
  },
  {
   "cell_type": "markdown",
   "id": "e9ce91ed",
   "metadata": {},
   "source": [
    "Similarly, the predictions of the DNNs can be loaded like so:"
   ]
  },
  {
   "cell_type": "code",
   "execution_count": null,
   "id": "cf391b45",
   "metadata": {},
   "outputs": [],
   "source": [
    "fcnn_filepath = os.path.join(dnn_predictions_dir, f\"fcnn_P{participant:02d}_predictions.npy\")\n",
    "fcnn_predictions = np.load(filepath)\n",
    "print(pearsonr(fcnn_predictions, ground_truth))"
   ]
  },
  {
   "cell_type": "markdown",
   "id": "3d662734",
   "metadata": {},
   "source": [
    "The time series can be compared visually:"
   ]
  },
  {
   "cell_type": "code",
   "execution_count": null,
   "id": "2e32a0c2",
   "metadata": {},
   "outputs": [],
   "source": [
    "fs = 125\n",
    "t = np.arange(len(fcnn_predictions))/fs\n",
    "plt.plot(t, ground_truth, label='envelope')\n",
    "plt.plot(t, fcnn_predictions, label='reconstruction')\n",
    "plt.legend()\n",
    "\n",
    "plt.xlim(10, 30)\n",
    "plt.xlabel('Time [s]')\n",
    "\n",
    "plt.title(f'correlation: {pearsonr(ground_truth, fcnn_predictions)[0]}')"
   ]
  },
  {
   "cell_type": "markdown",
   "id": "2b19b8e3",
   "metadata": {},
   "source": [
    "## Exercise: correlate the CNN predictions with the FCNN predictions. What do you notice? Also compare the DNN predictions with the predictions of the linear models."
   ]
  },
  {
   "cell_type": "code",
   "execution_count": null,
   "id": "038d40f3",
   "metadata": {},
   "outputs": [],
   "source": []
  },
  {
   "cell_type": "code",
   "execution_count": null,
   "id": "fb650e98",
   "metadata": {},
   "outputs": [],
   "source": []
  },
  {
   "cell_type": "code",
   "execution_count": null,
   "id": "98748d8d",
   "metadata": {},
   "outputs": [],
   "source": []
  },
  {
   "cell_type": "markdown",
   "id": "5b1004b1",
   "metadata": {},
   "source": [
    "# Population-level analysis"
   ]
  },
  {
   "cell_type": "code",
   "execution_count": null,
   "id": "86a4ae71",
   "metadata": {},
   "outputs": [],
   "source": []
  },
  {
   "cell_type": "code",
   "execution_count": 6,
   "id": "cbeab96e",
   "metadata": {},
   "outputs": [],
   "source": [
    "correlations = []\n",
    "for participant in range(13):\n",
    "    predictions = np.load(f'../data/hugo_subject_specific/cnn_predictions_P{participant:02d}.npy')\n",
    "    correlations.append(pearsonr(ground_truth, predictions)[0])"
   ]
  },
  {
   "cell_type": "code",
   "execution_count": 9,
   "id": "21a867a5",
   "metadata": {},
   "outputs": [
    {
     "data": {
      "text/plain": [
       "Text(0.5, 0, 'participant')"
      ]
     },
     "execution_count": 9,
     "metadata": {},
     "output_type": "execute_result"
    },
    {
     "data": {
      "image/png": "[encoded data removed]",
      "text/plain": [
       "<Figure size 432x288 with 1 Axes>"
      ]
     },
     "metadata": {
      "needs_background": "light"
     },
     "output_type": "display_data"
    }
   ],
   "source": [
    "plt.bar(range(13),correlations)\n",
    "plt.xticks([])\n",
    "plt.ylabel('correlation coefficient')\n",
    "plt.xlabel('participant')"
   ]
  },
  {
   "cell_type": "markdown",
   "id": "63df1496",
   "metadata": {},
   "source": [
    "# Exercises"
   ]
  },
  {
   "cell_type": "markdown",
   "id": "61089a51",
   "metadata": {},
   "source": [
    "# Extension: 2-speaker data"
   ]
  },
  {
   "cell_type": "code",
   "execution_count": null,
   "id": "99a2000a",
   "metadata": {},
   "outputs": [],
   "source": []
  }
 ],
 "metadata": {
  "kernelspec": {
   "display_name": "Python 3 (ipykernel)",
   "language": "python",
   "name": "python3"
  },
  "language_info": {
   "codemirror_mode": {
    "name": "ipython",
    "version": 3
   },
   "file_extension": ".py",
   "mimetype": "text/x-python",
   "name": "python",
   "nbconvert_exporter": "python",
   "pygments_lexer": "ipython3",
   "version": "3.9.9"
  }
 },
 "nbformat": 4,
 "nbformat_minor": 5
}
